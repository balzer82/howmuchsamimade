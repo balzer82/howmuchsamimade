{
 "metadata": {
  "name": ""
 },
 "nbformat": 3,
 "nbformat_minor": 0,
 "worksheets": [
  {
   "cells": [
    {
     "cell_type": "code",
     "collapsed": false,
     "input": [
      "import urllib\n",
      "import json\n",
      "from bs4 import BeautifulSoup\n",
      "from collections import namedtuple\n",
      "import matplotlib.pyplot as plt\n",
      "import numpy as np"
     ],
     "language": "python",
     "metadata": {},
     "outputs": [],
     "prompt_number": 13
    },
    {
     "cell_type": "code",
     "collapsed": false,
     "input": [
      "# Source: https://gist.github.com/shaurz/6796103\n",
      "# Thanks!\n",
      "\n",
      "Video = namedtuple(\"Video\", \"video_id title duration views thumbnail\")\n",
      " \n",
      "def parse_video_div(div):\n",
      "    video_id = div.get(\"data-context-item-id\", \"\")\n",
      "    title = div.get(\"data-context-item-title\", \"\")\n",
      "    duration = div.get(\"data-context-item-time\", \"\")\n",
      "    views = div.get(\"data-context-item-views\", \"\")\n",
      "    img = div.find(\"img\")\n",
      "    thumbnail = \"http:\" + img.get(\"src\", \"\") if img else \"\"\n",
      "    return Video(video_id, title, duration, views, thumbnail)\n",
      " \n",
      "def parse_videos_page(page):\n",
      "    video_divs = page.find_all(\"div\", attrs={\"data-context-item-type\": \"video\"})\n",
      "    return [parse_video_div(div) for div in video_divs]\n",
      " \n",
      "def find_load_more_url(page):\n",
      "    for button in page.find_all(\"button\"):\n",
      "        url = button.get(\"data-uix-load-more-href\")\n",
      "        if url:\n",
      "            return \"http://www.youtube.com\" + url\n",
      " \n",
      "def download_page(url):\n",
      "    #print(\"Downloading {0}\".format(url))\n",
      "    return urllib.urlopen(url).read()\n",
      " \n",
      "def get_videos(username):\n",
      "    page_url = \"http://www.youtube.com/user/{0}/videos\".format(username)\n",
      "    page = BeautifulSoup(download_page(page_url))\n",
      "    videos = parse_videos_page(page)\n",
      "    page_url = find_load_more_url(page)\n",
      "    while page_url:\n",
      "        json_data = json.loads(download_page(page_url))\n",
      "        page = BeautifulSoup(json_data.get(\"content_html\", \"\"))\n",
      "        videos.extend(parse_videos_page(page))  \n",
      "        page_url = find_load_more_url(BeautifulSoup(json_data.get(\"load_more_widget_html\", \"\")))\n",
      "    return videos\n",
      " \n",
      "if __name__ == \"__main__\":\n",
      "    \n",
      "    # Channel Name here:\n",
      "    chname = 'HerrTutorial'\n",
      "    \n",
      "    videos = get_videos(chname)\n",
      "\n",
      "    value = 4.0   # \u20ac per 1000 Views\n",
      "    # source: http://www.googlewatchblog.de/2014/02/sinkende-werbepreise-youtube-stars/\n",
      "    \n",
      "    name=[]\n",
      "    money=[]\n",
      "    for video in videos:\n",
      "            name.append(video.title)\n",
      "            \n",
      "            views = video.views.split()[0]\n",
      "            views = float(views.replace('.',''))\n",
      "            money.append(views * value/1000.0)\n",
      "    \n",
      "    su = np.sum(money)\n",
      "    print('%dEUR so far from YouTube' % su)\n",
      "    \n",
      "    \n",
      "    fig = plt.figure(figsize=(5,len(name)/2))\n",
      "    pos = np.arange(len(name))+0.5\n",
      "    plt.barh(pos, money, align='center',height=0.8)\n",
      "    plt.axis('tight')\n",
      "    plt.yticks(pos, name)\n",
      "    plt.annotate(u'ca. %dEUR' % su, xy=(0.95, 0.05),\n",
      "                xycoords='figure fraction',\n",
      "                horizontalalignment='right', verticalalignment='top',\n",
      "                fontsize=100,\n",
      "                color='#FF6700')\n",
      "    plt.xlabel('$EURO$')\n",
      "    plt.title('How much Money \\'%s\\' made?' % chname)\n",
      "    plt.savefig('howmuch-%s-made.png' % chname, dpi=72, bbox_inches='tight')\n",
      "    plt.close()"
     ],
     "language": "python",
     "metadata": {},
     "outputs": [
      {
       "output_type": "stream",
       "stream": "stdout",
       "text": [
        "363727EUR so far from YouTube\n"
       ]
      }
     ],
     "prompt_number": 14
    },
    {
     "cell_type": "code",
     "collapsed": false,
     "input": [],
     "language": "python",
     "metadata": {},
     "outputs": [],
     "prompt_number": 14
    },
    {
     "cell_type": "code",
     "collapsed": false,
     "input": [],
     "language": "python",
     "metadata": {},
     "outputs": [],
     "prompt_number": 14
    },
    {
     "cell_type": "code",
     "collapsed": false,
     "input": [],
     "language": "python",
     "metadata": {},
     "outputs": [],
     "prompt_number": 14
    }
   ],
   "metadata": {}
  }
 ]
}